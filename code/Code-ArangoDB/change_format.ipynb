{
 "cells": [
  {
   "cell_type": "code",
   "execution_count": 22,
   "metadata": {},
   "outputs": [],
   "source": [
    "import pandas as pd"
   ]
  },
  {
   "cell_type": "code",
   "execution_count": 115,
   "metadata": {},
   "outputs": [],
   "source": [
    "df = pd.read_table(r\"C:\\Users\\Steve\\University\\UCR 2024\\II Semestre UCR 2024\\Sistemas\\Sistemas-Tarea02\\data\\INSERT INTO Autor_de (in, out, porc.txt\", header= None)"
   ]
  },
  {
   "cell_type": "code",
   "execution_count": 116,
   "metadata": {},
   "outputs": [
    {
     "data": {
      "text/html": [
       "<div>\n",
       "<style scoped>\n",
       "    .dataframe tbody tr th:only-of-type {\n",
       "        vertical-align: middle;\n",
       "    }\n",
       "\n",
       "    .dataframe tbody tr th {\n",
       "        vertical-align: top;\n",
       "    }\n",
       "\n",
       "    .dataframe thead th {\n",
       "        text-align: right;\n",
       "    }\n",
       "</style>\n",
       "<table border=\"1\" class=\"dataframe\">\n",
       "  <thead>\n",
       "    <tr style=\"text-align: right;\">\n",
       "      <th></th>\n",
       "      <th>0</th>\n",
       "    </tr>\n",
       "  </thead>\n",
       "  <tbody>\n",
       "    <tr>\n",
       "      <th>0</th>\n",
       "      <td>(Estudio sobre la Biodiversidad de los Bosques...</td>\n",
       "    </tr>\n",
       "    <tr>\n",
       "      <th>1</th>\n",
       "      <td>(Efectos de la Deforestación en la Fauna, Juan...</td>\n",
       "    </tr>\n",
       "    <tr>\n",
       "      <th>2</th>\n",
       "      <td>(Investigación sobre el Comportamiento de Espe...</td>\n",
       "    </tr>\n",
       "    <tr>\n",
       "      <th>3</th>\n",
       "      <td>(Manejo de Recursos Naturales en Zonas Rurales...</td>\n",
       "    </tr>\n",
       "    <tr>\n",
       "      <th>4</th>\n",
       "      <td>(Impacto de la Contaminación en la Salud Human...</td>\n",
       "    </tr>\n",
       "  </tbody>\n",
       "</table>\n",
       "</div>"
      ],
      "text/plain": [
       "                                                   0\n",
       "0  (Estudio sobre la Biodiversidad de los Bosques...\n",
       "1  (Efectos de la Deforestación en la Fauna, Juan...\n",
       "2  (Investigación sobre el Comportamiento de Espe...\n",
       "3  (Manejo de Recursos Naturales en Zonas Rurales...\n",
       "4  (Impacto de la Contaminación en la Salud Human..."
      ]
     },
     "execution_count": 116,
     "metadata": {},
     "output_type": "execute_result"
    }
   ],
   "source": [
    "df.head()"
   ]
  },
  {
   "cell_type": "code",
   "execution_count": 117,
   "metadata": {},
   "outputs": [],
   "source": [
    "var = df.iloc[1, 0].replace(\"),\", \"\").replace(\"(\", \"\").split(\",\")\n",
    "# var[(len(var) - 1)] = float(var[(len(var) - 1)].replace(\" \", \"\"))"
   ]
  },
  {
   "cell_type": "code",
   "execution_count": 118,
   "metadata": {},
   "outputs": [
    {
     "data": {
      "text/plain": [
       "['Efectos de la Deforestación en la Fauna', ' Juan Ramírez Pérez', ' 70.0']"
      ]
     },
     "execution_count": 118,
     "metadata": {},
     "output_type": "execute_result"
    }
   ],
   "source": [
    "var"
   ]
  },
  {
   "cell_type": "code",
   "execution_count": 120,
   "metadata": {},
   "outputs": [],
   "source": [
    "objetos_json = []\n",
    "\n",
    "x1 = 0\n",
    " \n",
    "for i in range(df.shape[0]):  # Iterar por todas las filas del dataframe\n",
    "    var = df.iloc[i, 0].replace(\"),\", \"\").replace(\"(\", \"\").split(\",\")\n",
    "\n",
    "    objeto = {\n",
    "        \"_from\": \"Publicaciones-Data/\" + str(23213 + x1),\n",
    "        \"_to\": \"Professional-Data/\" + str(18972 + x1),\n",
    "        \"porcentaje_contribucio\" : float(var[2].replace(\" \", \"\").replace(\")\", \"\"))\n",
    "        }\n",
    "\n",
    "    x1 += 1\n",
    "    objetos_json.append(objeto)"
   ]
  },
  {
   "cell_type": "code",
   "execution_count": 83,
   "metadata": {},
   "outputs": [],
   "source": [
    "objetos_json = []\n",
    "\n",
    "x1 = 0\n",
    " \n",
    "for i in range(df.shape[0]):  # Iterar por todas las filas del dataframe\n",
    "    var = df.iloc[i, 0].replace(\"),\", \"\").replace(\"(\", \"\").split(\",\")\n",
    "\n",
    "    objeto = {\n",
    "        \"_from\": \"Estudiantes-Data/\" + str(24838 + x1),\n",
    "        \"_to\": \"Publicaciones-Data/\" + str(23213 + x1),\n",
    "        \"fecha_consulta\": var[2].replace(\" '\", \"\").replace(\"'\", \"\"),\n",
    "        \"tipo_de_consulta\": var[3].replace(\" '\", \"\").replace(\"'\", \"\")\n",
    "        }\n",
    "\n",
    "\n",
    "    x1 += 1\n",
    "    objetos_json.append(objeto)"
   ]
  },
  {
   "cell_type": "code",
   "execution_count": 90,
   "metadata": {},
   "outputs": [
    {
     "data": {
      "text/plain": [
       "['Jorge Castro Méndez',\n",
       " ' Raúl Vega Paredes',\n",
       " \" '2023-01-01'\",\n",
       " \" '2023-06-30'\",\n",
       " \" 'Consultor'\",\n",
       " \" 'Apoyó en la fase de análisis de datos'\",\n",
       " \" 'Proyecto de biodiversidad'\"]"
      ]
     },
     "execution_count": 90,
     "metadata": {},
     "output_type": "execute_result"
    }
   ],
   "source": [
    "var"
   ]
  },
  {
   "cell_type": "code",
   "execution_count": 91,
   "metadata": {},
   "outputs": [],
   "source": [
    "objetos_json = []\n",
    "\n",
    "x1 = 0\n",
    " \n",
    "for i in range(df.shape[0]):  # Iterar por todas las filas del dataframe\n",
    "    var = df.iloc[i, 0].replace(\"),\", \"\").replace(\"(\", \"\").split(\",\")\n",
    "\n",
    "    objeto = {\n",
    "        \"_from\": \"Professional-Data/\" + str(18972 + x1),\n",
    "        \"_to\": \"Estudiantes-Data/\" + str(24838 + x1) ,\n",
    "        \"fecha_inicio\": var[2].replace(\" '\", \"\").replace(\"'\", \"\"),\n",
    "        \"fecha_fin\": var[3].replace(\" '\", \"\").replace(\"'\", \"\"),\n",
    "        \"tipo_contribucion\": var[4].replace(\" '\", \"\").replace(\"'\", \"\"),\n",
    "        \"comentarios\": var[5].replace(\" '\", \"\").replace(\"'\", \"\"),\n",
    "        \"nombre_proyecto\": var[6].replace(\" '\", \"\").replace(\"'\", \"\")\n",
    "        }\n",
    "\n",
    "\n",
    "\n",
    "    x1 += 1\n",
    "    objetos_json.append(objeto)"
   ]
  },
  {
   "cell_type": "code",
   "execution_count": 122,
   "metadata": {},
   "outputs": [
    {
     "data": {
      "text/plain": [
       "[{'_from': 'Publicaciones-Data/23213',\n",
       "  '_to': 'Professional-Data/18972',\n",
       "  'porcentaje_contribucio': 80.0},\n",
       " {'_from': 'Publicaciones-Data/23214',\n",
       "  '_to': 'Professional-Data/18973',\n",
       "  'porcentaje_contribucio': 70.0},\n",
       " {'_from': 'Publicaciones-Data/23215',\n",
       "  '_to': 'Professional-Data/18974',\n",
       "  'porcentaje_contribucio': 50.0},\n",
       " {'_from': 'Publicaciones-Data/23216',\n",
       "  '_to': 'Professional-Data/18975',\n",
       "  'porcentaje_contribucio': 100.0},\n",
       " {'_from': 'Publicaciones-Data/23217',\n",
       "  '_to': 'Professional-Data/18976',\n",
       "  'porcentaje_contribucio': 100.0},\n",
       " {'_from': 'Publicaciones-Data/23218',\n",
       "  '_to': 'Professional-Data/18977',\n",
       "  'porcentaje_contribucio': 50.0},\n",
       " {'_from': 'Publicaciones-Data/23219',\n",
       "  '_to': 'Professional-Data/18978',\n",
       "  'porcentaje_contribucio': 90.0},\n",
       " {'_from': 'Publicaciones-Data/23220',\n",
       "  '_to': 'Professional-Data/18979',\n",
       "  'porcentaje_contribucio': 100.0},\n",
       " {'_from': 'Publicaciones-Data/23221',\n",
       "  '_to': 'Professional-Data/18980',\n",
       "  'porcentaje_contribucio': 80.0},\n",
       " {'_from': 'Publicaciones-Data/23222',\n",
       "  '_to': 'Professional-Data/18981',\n",
       "  'porcentaje_contribucio': 50.0},\n",
       " {'_from': 'Publicaciones-Data/23223',\n",
       "  '_to': 'Professional-Data/18982',\n",
       "  'porcentaje_contribucio': 60.0},\n",
       " {'_from': 'Publicaciones-Data/23224',\n",
       "  '_to': 'Professional-Data/18983',\n",
       "  'porcentaje_contribucio': 50.0},\n",
       " {'_from': 'Publicaciones-Data/23225',\n",
       "  '_to': 'Professional-Data/18984',\n",
       "  'porcentaje_contribucio': 100.0},\n",
       " {'_from': 'Publicaciones-Data/23226',\n",
       "  '_to': 'Professional-Data/18985',\n",
       "  'porcentaje_contribucio': 70.0},\n",
       " {'_from': 'Publicaciones-Data/23227',\n",
       "  '_to': 'Professional-Data/18986',\n",
       "  'porcentaje_contribucio': 50.0},\n",
       " {'_from': 'Publicaciones-Data/23228',\n",
       "  '_to': 'Professional-Data/18987',\n",
       "  'porcentaje_contribucio': 100.0},\n",
       " {'_from': 'Publicaciones-Data/23229',\n",
       "  '_to': 'Professional-Data/18988',\n",
       "  'porcentaje_contribucio': 60.0},\n",
       " {'_from': 'Publicaciones-Data/23230',\n",
       "  '_to': 'Professional-Data/18989',\n",
       "  'porcentaje_contribucio': 80.0},\n",
       " {'_from': 'Publicaciones-Data/23231',\n",
       "  '_to': 'Professional-Data/18990',\n",
       "  'porcentaje_contribucio': 70.0},\n",
       " {'_from': 'Publicaciones-Data/23232',\n",
       "  '_to': 'Professional-Data/18991',\n",
       "  'porcentaje_contribucio': 60.0},\n",
       " {'_from': 'Publicaciones-Data/23233',\n",
       "  '_to': 'Professional-Data/18992',\n",
       "  'porcentaje_contribucio': 50.0},\n",
       " {'_from': 'Publicaciones-Data/23234',\n",
       "  '_to': 'Professional-Data/18993',\n",
       "  'porcentaje_contribucio': 90.0},\n",
       " {'_from': 'Publicaciones-Data/23235',\n",
       "  '_to': 'Professional-Data/18994',\n",
       "  'porcentaje_contribucio': 100.0},\n",
       " {'_from': 'Publicaciones-Data/23236',\n",
       "  '_to': 'Professional-Data/18995',\n",
       "  'porcentaje_contribucio': 50.0},\n",
       " {'_from': 'Publicaciones-Data/23237',\n",
       "  '_to': 'Professional-Data/18996',\n",
       "  'porcentaje_contribucio': 80.0},\n",
       " {'_from': 'Publicaciones-Data/23238',\n",
       "  '_to': 'Professional-Data/18997',\n",
       "  'porcentaje_contribucio': 70.0},\n",
       " {'_from': 'Publicaciones-Data/23239',\n",
       "  '_to': 'Professional-Data/18998',\n",
       "  'porcentaje_contribucio': 50.0},\n",
       " {'_from': 'Publicaciones-Data/23240',\n",
       "  '_to': 'Professional-Data/18999',\n",
       "  'porcentaje_contribucio': 100.0},\n",
       " {'_from': 'Publicaciones-Data/23241',\n",
       "  '_to': 'Professional-Data/19000',\n",
       "  'porcentaje_contribucio': 60.0},\n",
       " {'_from': 'Publicaciones-Data/23242',\n",
       "  '_to': 'Professional-Data/19001',\n",
       "  'porcentaje_contribucio': 70.0},\n",
       " {'_from': 'Publicaciones-Data/23243',\n",
       "  '_to': 'Professional-Data/19002',\n",
       "  'porcentaje_contribucio': 80.0},\n",
       " {'_from': 'Publicaciones-Data/23244',\n",
       "  '_to': 'Professional-Data/19003',\n",
       "  'porcentaje_contribucio': 90.0},\n",
       " {'_from': 'Publicaciones-Data/23245',\n",
       "  '_to': 'Professional-Data/19004',\n",
       "  'porcentaje_contribucio': 50.0},\n",
       " {'_from': 'Publicaciones-Data/23246',\n",
       "  '_to': 'Professional-Data/19005',\n",
       "  'porcentaje_contribucio': 100.0},\n",
       " {'_from': 'Publicaciones-Data/23247',\n",
       "  '_to': 'Professional-Data/19006',\n",
       "  'porcentaje_contribucio': 60.0},\n",
       " {'_from': 'Publicaciones-Data/23248',\n",
       "  '_to': 'Professional-Data/19007',\n",
       "  'porcentaje_contribucio': 100.0},\n",
       " {'_from': 'Publicaciones-Data/23249',\n",
       "  '_to': 'Professional-Data/19008',\n",
       "  'porcentaje_contribucio': 50.0},\n",
       " {'_from': 'Publicaciones-Data/23250',\n",
       "  '_to': 'Professional-Data/19009',\n",
       "  'porcentaje_contribucio': 70.0},\n",
       " {'_from': 'Publicaciones-Data/23251',\n",
       "  '_to': 'Professional-Data/19010',\n",
       "  'porcentaje_contribucio': 80.0},\n",
       " {'_from': 'Publicaciones-Data/23252',\n",
       "  '_to': 'Professional-Data/19011',\n",
       "  'porcentaje_contribucio': 90.0},\n",
       " {'_from': 'Publicaciones-Data/23253',\n",
       "  '_to': 'Professional-Data/19012',\n",
       "  'porcentaje_contribucio': 100.0},\n",
       " {'_from': 'Publicaciones-Data/23254',\n",
       "  '_to': 'Professional-Data/19013',\n",
       "  'porcentaje_contribucio': 50.0},\n",
       " {'_from': 'Publicaciones-Data/23255',\n",
       "  '_to': 'Professional-Data/19014',\n",
       "  'porcentaje_contribucio': 60.0},\n",
       " {'_from': 'Publicaciones-Data/23256',\n",
       "  '_to': 'Professional-Data/19015',\n",
       "  'porcentaje_contribucio': 80.0},\n",
       " {'_from': 'Publicaciones-Data/23257',\n",
       "  '_to': 'Professional-Data/19016',\n",
       "  'porcentaje_contribucio': 70.0},\n",
       " {'_from': 'Publicaciones-Data/23258',\n",
       "  '_to': 'Professional-Data/19017',\n",
       "  'porcentaje_contribucio': 50.0},\n",
       " {'_from': 'Publicaciones-Data/23259',\n",
       "  '_to': 'Professional-Data/19018',\n",
       "  'porcentaje_contribucio': 100.0},\n",
       " {'_from': 'Publicaciones-Data/23260',\n",
       "  '_to': 'Professional-Data/19019',\n",
       "  'porcentaje_contribucio': 60.0},\n",
       " {'_from': 'Publicaciones-Data/23261',\n",
       "  '_to': 'Professional-Data/19020',\n",
       "  'porcentaje_contribucio': 90.0},\n",
       " {'_from': 'Publicaciones-Data/23262',\n",
       "  '_to': 'Professional-Data/19021',\n",
       "  'porcentaje_contribucio': 80.0}]"
      ]
     },
     "execution_count": 122,
     "metadata": {},
     "output_type": "execute_result"
    }
   ],
   "source": [
    "objetos_json"
   ]
  },
  {
   "cell_type": "code",
   "execution_count": 123,
   "metadata": {},
   "outputs": [],
   "source": [
    "import json\n",
    "with open('archivo_correccion.json', 'w', encoding='utf-8') as f:\n",
    "    json.dump(objetos_json, f, ensure_ascii=False, indent=4)"
   ]
  }
 ],
 "metadata": {
  "kernelspec": {
   "display_name": "Python 3",
   "language": "python",
   "name": "python3"
  },
  "language_info": {
   "codemirror_mode": {
    "name": "ipython",
    "version": 3
   },
   "file_extension": ".py",
   "mimetype": "text/x-python",
   "name": "python",
   "nbconvert_exporter": "python",
   "pygments_lexer": "ipython3",
   "version": "3.12.6"
  }
 },
 "nbformat": 4,
 "nbformat_minor": 2
}
